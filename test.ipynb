{
 "cells": [
  {
   "cell_type": "code",
   "execution_count": 1,
   "metadata": {},
   "outputs": [],
   "source": [
    "from Models.bert import TineeBERT\n",
    "from CustomBPE.Model.Tokenizer import AutoTokenizer, MLMTokenizer"
   ]
  },
  {
   "cell_type": "code",
   "execution_count": 2,
   "metadata": {},
   "outputs": [],
   "source": [
    "mlm_tokenizer = MLMTokenizer(truncation_side=\"right\", from_pretrained=True, return_tensors=True, max_tokens=512)"
   ]
  },
  {
   "cell_type": "code",
   "execution_count": null,
   "metadata": {},
   "outputs": [],
   "source": [
    "text = \"The main issue is whether Raj’s security camera outside his house violate the right to privacy of his neighbours or not. To determine the concerned case, we need to look at trespass and if Raj is trespassing in his neighbour’s property via his camera set up. First the security camera in question covers significant area of Raj’s neighbor’s properties. Both Raj and his neighbors (Vijay and Karan) are making sound arguments regarding their wish keep and remove the camera respectively. But looking at it proportionately, Vijay’s and Karan’s right to privacy and freely enjoy their property supersedes Raj’s need to increase his security. Raj’s need is inferior in the present context because their are other alternatives which could help Raj meet his desired like increasing security personnel or installing more lights. Comparatively Vijay and Karan do not have other alternative. Second, Raj’s argument that the security camera outside his house is for the collective benefit can be countered by the principle of collective decision making. Raj can’t unilaterally decide and put up a private security camera outside his house which covers significant portion of his neighbor’s properties. The problem of increased crime rate in the area is a collective one and thereby should be resolved by keeping collective interests at the centre. Therefore, as part of neighbor association, I will order removal of security camera outside Raj’s house as that camera clearly indicates a trespass on Raj’s part while the trespass may not be physical per se but the presence of a camera infringes upon Vijaya’s and Karan’s right to enjoy their property freely without any restrictions.\"\n",
    "tokenized_texts, attention_masks, targets = mlm_tokenizer([text])"
   ]
  },
  {
   "cell_type": "code",
   "execution_count": 3,
   "metadata": {},
   "outputs": [],
   "source": [
    "import pandas as pd"
   ]
  },
  {
   "cell_type": "code",
   "execution_count": null,
   "metadata": {},
   "outputs": [],
   "source": []
  }
 ],
 "metadata": {
  "kernelspec": {
   "display_name": "bert",
   "language": "python",
   "name": "python3"
  },
  "language_info": {
   "codemirror_mode": {
    "name": "ipython",
    "version": 3
   },
   "file_extension": ".py",
   "mimetype": "text/x-python",
   "name": "python",
   "nbconvert_exporter": "python",
   "pygments_lexer": "ipython3",
   "version": "3.13.2"
  }
 },
 "nbformat": 4,
 "nbformat_minor": 2
}
