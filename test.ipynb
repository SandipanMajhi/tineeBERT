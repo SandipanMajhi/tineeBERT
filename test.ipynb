{
 "cells": [
  {
   "cell_type": "code",
   "execution_count": 1,
   "metadata": {},
   "outputs": [],
   "source": [
    "from Models.bert import TineeBERT\n",
    "from CustomBPE.Model.Tokenizer import AutoTokenizer, MLMTokenizer"
   ]
  },
  {
   "cell_type": "code",
   "execution_count": 2,
   "metadata": {},
   "outputs": [],
   "source": [
    "mlm_tokenizer = MLMTokenizer(truncation_side=\"right\", from_pretrained=True, return_tensors=True, max_tokens=512)"
   ]
  },
  {
   "cell_type": "code",
   "execution_count": null,
   "metadata": {},
   "outputs": [],
   "source": [
    "text = \"The main issue is whether Raj’s security camera outside his house violate the right to privacy of his neighbours or not. To determine the concerned case, we need to look at trespass and if Raj is trespassing in his neighbour’s property via his camera set up. First the security camera in question covers significant area of Raj’s neighbor’s properties. Both Raj and his neighbors (Vijay and Karan) are making sound arguments regarding their wish keep and remove the camera respectively. But looking at it proportionately, Vijay’s and Karan’s right to privacy and freely enjoy their property supersedes Raj’s need to increase his security. Raj’s need is inferior in the present context because their are other alternatives which could help Raj meet his desired like increasing security personnel or installing more lights. Comparatively Vijay and Karan do not have other alternative. Second, Raj’s argument that the security camera outside his house is for the collective benefit can be countered by the principle of collective decision making. Raj can’t unilaterally decide and put up a private security camera outside his house which covers significant portion of his neighbor’s properties. The problem of increased crime rate in the area is a collective one and thereby should be resolved by keeping collective interests at the centre. Therefore, as part of neighbor association, I will order removal of security camera outside Raj’s house as that camera clearly indicates a trespass on Raj’s part while the trespass may not be physical per se but the presence of a camera infringes upon Vijaya’s and Karan’s right to enjoy their property freely without any restrictions.\"\n",
    "tokenized_texts, attention_masks, targets = mlm_tokenizer([text])"
   ]
  },
  {
   "cell_type": "code",
   "execution_count": null,
   "metadata": {},
   "outputs": [
    {
     "ename": "",
     "evalue": "",
     "output_type": "error",
     "traceback": [
      "\u001b[1;31mFailed to start the Kernel. \n",
      "\u001b[1;31mLibMambaUnsatisfiableError: Encountered problems while solving:\n",
      "\u001b[1;31m  - package pyzmq-14.7.0-py27_0 requires python 2.7*, but none of the providers can be installed\n",
      "\u001b[1;31m\n",
      "\u001b[1;31mCould not solve for environment specs\n",
      "\u001b[1;31mThe following packages are incompatible\n",
      "\u001b[1;31m├─ pin-1 is installable and it requires\n",
      "\u001b[1;31m│  └─ python 3.13.* , which can be installed;\n",
      "\u001b[1;31m└─ pyzmq <25  is not installable because there are no viable options\n",
      "\u001b[1;31m   ├─ pyzmq [14.7.0|15.3.0|...|19.0.0] would require\n",
      "\u001b[1;31m   │  └─ python [2.7* |>=2.7,<2.8.0a0 ], which conflicts with any installable versions previously reported;\n",
      "\u001b[1;31m   ├─ pyzmq [14.7.0|15.3.0|15.4.0|16.0.1] would require\n",
      "\u001b[1;31m   │  └─ python 3.4* , which conflicts with any installable versions previously reported;\n",
      "\u001b[1;31m   ├─ pyzmq [14.7.0|15.3.0|...|17.1.2] would require\n",
      "\u001b[1;31m   │  └─ python [3.5* |>=3.5,<3.6.0a0 ], which conflicts with any installable versions previously reported;\n",
      "\u001b[1;31m   ├─ pyzmq [16.0.2|17.0.0] would require\n",
      "\u001b[1;31m   │  └─ python 3.6* , which conflicts with any installable versions previously reported;\n",
      "\u001b[1;31m   ├─ pyzmq [16.0.2|16.0.3|...|22.3.0] would require\n",
      "\u001b[1;31m   │  └─ python >=3.6,<3.7.0a0 , which conflicts with any installable versions previously reported;\n",
      "\u001b[1;31m   ├─ pyzmq [17.0.0|17.1.0|...|24.0.1] would require\n",
      "\u001b[1;31m   │  └─ python >=3.7,<3.8.0a0 , which conflicts with any installable versions previously reported;\n",
      "\u001b[1;31m   ├─ pyzmq [18.1.0|18.1.1|...|24.0.1] would require\n",
      "\u001b[1;31m   │  └─ python >=3.8,<3.9.0a0 , which conflicts with any installable versions previously reported;\n",
      "\u001b[1;31m   ├─ pyzmq [18.1.1|19.0.2|...|24.0.1] would require\n",
      "\u001b[1;31m   │  └─ python >=3.9,<3.10.0a0 , which conflicts with any installable versions previously reported;\n",
      "\u001b[1;31m   ├─ pyzmq [22.3.0|23.0.0|...|24.0.1] would require\n",
      "\u001b[1;31m   │  └─ python >=3.10,<3.11.0a0 , which conflicts with any installable versions previously reported;\n",
      "\u001b[1;31m   ├─ pyzmq [23.2.0|24.0.1] would require\n",
      "\u001b[1;31m   │  └─ python >=3.11,<3.12.0a0 , which conflicts with any installable versions previously reported;\n",
      "\u001b[1;31m   └─ pyzmq 24.0.1 would require\n",
      "\u001b[1;31m      └─ python >=3.12,<3.13.0a0 , which conflicts with any installable versions previously reported.\n",
      "\u001b[1;31m\n",
      "\u001b[1;31mPins seem to be involved in the conflict. Currently pinned specs:\n",
      "\u001b[1;31m - python 3.13.* (labeled as 'pin-1'). \n",
      "\u001b[1;31mView Jupyter <a href='command:jupyter.viewOutput'>log</a> for further details."
     ]
    }
   ],
   "source": [
    "import torch "
   ]
  },
  {
   "cell_type": "code",
   "execution_count": null,
   "metadata": {},
   "outputs": [],
   "source": []
  }
 ],
 "metadata": {
  "kernelspec": {
   "display_name": "bert",
   "language": "python",
   "name": "python3"
  },
  "language_info": {
   "codemirror_mode": {
    "name": "ipython",
    "version": 3
   },
   "file_extension": ".py",
   "mimetype": "text/x-python",
   "name": "python",
   "nbconvert_exporter": "python",
   "pygments_lexer": "ipython3",
   "version": "3.13.2"
  }
 },
 "nbformat": 4,
 "nbformat_minor": 2
}
