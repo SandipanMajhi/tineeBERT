{
 "cells": [
  {
   "cell_type": "code",
   "execution_count": 2,
   "metadata": {},
   "outputs": [],
   "source": [
    "from Model.blocks import AbsolutePE"
   ]
  },
  {
   "cell_type": "code",
   "execution_count": 3,
   "metadata": {},
   "outputs": [],
   "source": [
    "pe = AbsolutePE(embed_size=512, seq_len=150)"
   ]
  },
  {
   "cell_type": "code",
   "execution_count": 4,
   "metadata": {},
   "outputs": [
    {
     "data": {
      "text/plain": [
       "torch.Size([150, 512])"
      ]
     },
     "execution_count": 4,
     "metadata": {},
     "output_type": "execute_result"
    }
   ],
   "source": [
    "pe.positional_encoding.shape"
   ]
  },
  {
   "cell_type": "code",
   "execution_count": 13,
   "metadata": {},
   "outputs": [],
   "source": [
    "import torch\n",
    "\n",
    "mask = torch.randint(0, 2, (16, 150))"
   ]
  },
  {
   "cell_type": "code",
   "execution_count": 14,
   "metadata": {},
   "outputs": [],
   "source": [
    "atn = torch.argwhere(mask == 0)"
   ]
  },
  {
   "cell_type": "code",
   "execution_count": 16,
   "metadata": {},
   "outputs": [],
   "source": [
    "atn = atn.unsqueeze(1).unsqueeze(2)"
   ]
  },
  {
   "cell_type": "code",
   "execution_count": 17,
   "metadata": {},
   "outputs": [
    {
     "data": {
      "text/plain": [
       "torch.Size([1221, 1, 1, 2])"
      ]
     },
     "execution_count": 17,
     "metadata": {},
     "output_type": "execute_result"
    }
   ],
   "source": [
    "atn.shape"
   ]
  },
  {
   "cell_type": "code",
   "execution_count": 40,
   "metadata": {},
   "outputs": [],
   "source": [
    "import torch\n",
    "\n",
    "# Create an example tensor\n",
    "x = torch.tensor([[1, 2, 3],\n",
    "                  [4, 5, 6]])\n",
    "\n",
    "# Define a mask where we want to replace elements greater than 4\n",
    "mask = torch.tensor([[0,1,0], [1, 0, 1]])\n",
    "\n",
    "attn_score_mask = torch.zeros(2, 6, 3, 3)"
   ]
  },
  {
   "cell_type": "code",
   "execution_count": 42,
   "metadata": {},
   "outputs": [],
   "source": [
    "un_attn_indices = torch.argwhere(mask == 0)"
   ]
  },
  {
   "cell_type": "code",
   "execution_count": 44,
   "metadata": {},
   "outputs": [],
   "source": [
    "attn_score_mask[un_attn_indices[:,0], :, un_attn_indices[:,1], :] = -1e9\n",
    "attn_score_mask[un_attn_indices[:,0], :, :, un_attn_indices[:,1]] = -1e9\n"
   ]
  },
  {
   "cell_type": "code",
   "execution_count": 45,
   "metadata": {},
   "outputs": [
    {
     "data": {
      "text/plain": [
       "tensor([[[-1.0000e+09, -1.0000e+09, -1.0000e+09],\n",
       "         [-1.0000e+09,  0.0000e+00, -1.0000e+09],\n",
       "         [-1.0000e+09, -1.0000e+09, -1.0000e+09]],\n",
       "\n",
       "        [[-1.0000e+09, -1.0000e+09, -1.0000e+09],\n",
       "         [-1.0000e+09,  0.0000e+00, -1.0000e+09],\n",
       "         [-1.0000e+09, -1.0000e+09, -1.0000e+09]],\n",
       "\n",
       "        [[-1.0000e+09, -1.0000e+09, -1.0000e+09],\n",
       "         [-1.0000e+09,  0.0000e+00, -1.0000e+09],\n",
       "         [-1.0000e+09, -1.0000e+09, -1.0000e+09]],\n",
       "\n",
       "        [[-1.0000e+09, -1.0000e+09, -1.0000e+09],\n",
       "         [-1.0000e+09,  0.0000e+00, -1.0000e+09],\n",
       "         [-1.0000e+09, -1.0000e+09, -1.0000e+09]],\n",
       "\n",
       "        [[-1.0000e+09, -1.0000e+09, -1.0000e+09],\n",
       "         [-1.0000e+09,  0.0000e+00, -1.0000e+09],\n",
       "         [-1.0000e+09, -1.0000e+09, -1.0000e+09]],\n",
       "\n",
       "        [[-1.0000e+09, -1.0000e+09, -1.0000e+09],\n",
       "         [-1.0000e+09,  0.0000e+00, -1.0000e+09],\n",
       "         [-1.0000e+09, -1.0000e+09, -1.0000e+09]]])"
      ]
     },
     "execution_count": 45,
     "metadata": {},
     "output_type": "execute_result"
    }
   ],
   "source": [
    "attn_score_mask[0]"
   ]
  },
  {
   "cell_type": "code",
   "execution_count": 43,
   "metadata": {},
   "outputs": [
    {
     "data": {
      "text/plain": [
       "tensor([[0, 1, 0],\n",
       "        [1, 0, 1]])"
      ]
     },
     "execution_count": 43,
     "metadata": {},
     "output_type": "execute_result"
    }
   ],
   "source": [
    "mask "
   ]
  },
  {
   "cell_type": "code",
   "execution_count": null,
   "metadata": {},
   "outputs": [],
   "source": []
  }
 ],
 "metadata": {
  "kernelspec": {
   "display_name": "bert",
   "language": "python",
   "name": "python3"
  },
  "language_info": {
   "codemirror_mode": {
    "name": "ipython",
    "version": 3
   },
   "file_extension": ".py",
   "mimetype": "text/x-python",
   "name": "python",
   "nbconvert_exporter": "python",
   "pygments_lexer": "ipython3",
   "version": "3.13.2"
  }
 },
 "nbformat": 4,
 "nbformat_minor": 2
}
